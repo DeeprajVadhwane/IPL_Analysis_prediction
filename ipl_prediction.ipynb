{
 "cells": [
  {
   "cell_type": "markdown",
   "id": "f61ccd4f",
   "metadata": {},
   "source": [
    "## IPL Prediction"
   ]
  },
  {
   "cell_type": "markdown",
   "id": "c56755d3",
   "metadata": {},
   "source": [
    " IPL is very popular in India. The match of ipl has 20-20 overs, if we can estimate the score of the first innings. Although it is difficult to predict what will happen in cricket, this project would give us an estimate based on past matches.\n"
   ]
  },
  {
   "cell_type": "code",
   "execution_count": 1,
   "id": "2abaa31a",
   "metadata": {
    "id": "2abaa31a"
   },
   "outputs": [],
   "source": [
    "import numpy as np\n",
    "import pandas as pd\n",
    "import seaborn as sns\n",
    "import matplotlib.pyplot as plt\n",
    "from sklearn.model_selection import train_test_split\n",
    "from sklearn.linear_model import LinearRegression\n",
    "from sklearn.ensemble import RandomForestRegressor\n",
    "from sklearn.tree import DecisionTreeRegressor\n",
    "from sklearn.model_selection import GridSearchCV\n",
    "from sklearn.pipeline import Pipeline\n",
    "from sklearn.preprocessing import StandardScaler,MinMaxScaler\n",
    "from sklearn.metrics import mean_squared_error, r2_score\n",
    "from math import sqrt\n",
    "import joblib\n",
    "import time\n",
    "import os\n",
    "import warnings\n",
    "warnings.filterwarnings('ignore')\n",
    "pd.set_option('display.max_columns',None)"
   ]
  },
  {
   "cell_type": "code",
   "execution_count": 2,
   "id": "6b85866a",
   "metadata": {},
   "outputs": [],
   "source": [
    "from sklearn.linear_model import LinearRegression\n",
    "from sklearn.svm import SVR\n",
    "from sklearn.tree import DecisionTreeRegressor\n",
    "from sklearn.model_selection import GridSearchCV\n",
    "from sklearn.pipeline import Pipeline\n",
    "from sklearn.preprocessing import StandardScaler,MinMaxScaler\n",
    "from sklearn.metrics import mean_squared_error, r2_score\n",
    "from math import sqrt\n",
    "import joblib\n",
    "import time"
   ]
  },
  {
   "cell_type": "code",
   "execution_count": 3,
   "id": "bcddf522",
   "metadata": {},
   "outputs": [],
   "source": [
    "\n",
    "df_delivery = pd.read_csv(r\"E:\\Github Files\\ipl\\IPL_Prediction\\datasets\\deliveries.csv\")\n",
    "df_ipl = pd.read_csv(r\"E:\\Github Files\\ipl\\IPL_Prediction\\datasets\\ipl.csv\")\n",
    "df_ball = pd.read_csv(r\"E:\\Github Files\\ipl\\IPL_Prediction\\datasets\\IPL_Matches_2008_2022.csv\")\n",
    "df_matches= pd.read_csv(r\"E:\\Github Files\\ipl\\IPL_Prediction\\datasets\\matches.csv\")\n",
    "df_ipl_matches = pd.read_csv(r\"E:\\Github Files\\ipl\\IPL_Prediction\\datasets\\IPL_Matches_2008_2022.csv\")"
   ]
  },
  {
   "cell_type": "code",
   "execution_count": 4,
   "id": "52b7505c",
   "metadata": {
    "colab": {
     "base_uri": "https://localhost:8080/",
     "height": 451
    },
    "id": "52b7505c",
    "outputId": "40fe8619-112a-454d-9f75-90690fe1a3a1",
    "scrolled": false
   },
   "outputs": [
    {
     "data": {
      "text/html": [
       "<div>\n",
       "<style scoped>\n",
       "    .dataframe tbody tr th:only-of-type {\n",
       "        vertical-align: middle;\n",
       "    }\n",
       "\n",
       "    .dataframe tbody tr th {\n",
       "        vertical-align: top;\n",
       "    }\n",
       "\n",
       "    .dataframe thead th {\n",
       "        text-align: right;\n",
       "    }\n",
       "</style>\n",
       "<table border=\"1\" class=\"dataframe\">\n",
       "  <thead>\n",
       "    <tr style=\"text-align: right;\">\n",
       "      <th></th>\n",
       "      <th>id</th>\n",
       "      <th>Season</th>\n",
       "      <th>city</th>\n",
       "      <th>date</th>\n",
       "      <th>team1</th>\n",
       "      <th>team2</th>\n",
       "      <th>toss_winner</th>\n",
       "      <th>toss_decision</th>\n",
       "      <th>result</th>\n",
       "      <th>dl_applied</th>\n",
       "      <th>winner</th>\n",
       "      <th>win_by_runs</th>\n",
       "      <th>win_by_wickets</th>\n",
       "      <th>player_of_match</th>\n",
       "      <th>venue</th>\n",
       "      <th>umpire1</th>\n",
       "      <th>umpire2</th>\n",
       "      <th>umpire3</th>\n",
       "    </tr>\n",
       "  </thead>\n",
       "  <tbody>\n",
       "    <tr>\n",
       "      <th>0</th>\n",
       "      <td>1</td>\n",
       "      <td>IPL-2017</td>\n",
       "      <td>Hyderabad</td>\n",
       "      <td>05-04-2017</td>\n",
       "      <td>Sunrisers Hyderabad</td>\n",
       "      <td>Royal Challengers Bangalore</td>\n",
       "      <td>Royal Challengers Bangalore</td>\n",
       "      <td>field</td>\n",
       "      <td>normal</td>\n",
       "      <td>0</td>\n",
       "      <td>Sunrisers Hyderabad</td>\n",
       "      <td>35</td>\n",
       "      <td>0</td>\n",
       "      <td>Yuvraj Singh</td>\n",
       "      <td>Rajiv Gandhi International Stadium, Uppal</td>\n",
       "      <td>AY Dandekar</td>\n",
       "      <td>NJ Llong</td>\n",
       "      <td>NaN</td>\n",
       "    </tr>\n",
       "    <tr>\n",
       "      <th>1</th>\n",
       "      <td>2</td>\n",
       "      <td>IPL-2017</td>\n",
       "      <td>Pune</td>\n",
       "      <td>06-04-2017</td>\n",
       "      <td>Mumbai Indians</td>\n",
       "      <td>Rising Pune Supergiant</td>\n",
       "      <td>Rising Pune Supergiant</td>\n",
       "      <td>field</td>\n",
       "      <td>normal</td>\n",
       "      <td>0</td>\n",
       "      <td>Rising Pune Supergiant</td>\n",
       "      <td>0</td>\n",
       "      <td>7</td>\n",
       "      <td>SPD Smith</td>\n",
       "      <td>Maharashtra Cricket Association Stadium</td>\n",
       "      <td>A Nand Kishore</td>\n",
       "      <td>S Ravi</td>\n",
       "      <td>NaN</td>\n",
       "    </tr>\n",
       "    <tr>\n",
       "      <th>2</th>\n",
       "      <td>3</td>\n",
       "      <td>IPL-2017</td>\n",
       "      <td>Rajkot</td>\n",
       "      <td>07-04-2017</td>\n",
       "      <td>Gujarat Lions</td>\n",
       "      <td>Kolkata Knight Riders</td>\n",
       "      <td>Kolkata Knight Riders</td>\n",
       "      <td>field</td>\n",
       "      <td>normal</td>\n",
       "      <td>0</td>\n",
       "      <td>Kolkata Knight Riders</td>\n",
       "      <td>0</td>\n",
       "      <td>10</td>\n",
       "      <td>CA Lynn</td>\n",
       "      <td>Saurashtra Cricket Association Stadium</td>\n",
       "      <td>Nitin Menon</td>\n",
       "      <td>CK Nandan</td>\n",
       "      <td>NaN</td>\n",
       "    </tr>\n",
       "    <tr>\n",
       "      <th>3</th>\n",
       "      <td>4</td>\n",
       "      <td>IPL-2017</td>\n",
       "      <td>Indore</td>\n",
       "      <td>08-04-2017</td>\n",
       "      <td>Rising Pune Supergiant</td>\n",
       "      <td>Kings XI Punjab</td>\n",
       "      <td>Kings XI Punjab</td>\n",
       "      <td>field</td>\n",
       "      <td>normal</td>\n",
       "      <td>0</td>\n",
       "      <td>Kings XI Punjab</td>\n",
       "      <td>0</td>\n",
       "      <td>6</td>\n",
       "      <td>GJ Maxwell</td>\n",
       "      <td>Holkar Cricket Stadium</td>\n",
       "      <td>AK Chaudhary</td>\n",
       "      <td>C Shamshuddin</td>\n",
       "      <td>NaN</td>\n",
       "    </tr>\n",
       "    <tr>\n",
       "      <th>4</th>\n",
       "      <td>5</td>\n",
       "      <td>IPL-2017</td>\n",
       "      <td>Bangalore</td>\n",
       "      <td>08-04-2017</td>\n",
       "      <td>Royal Challengers Bangalore</td>\n",
       "      <td>Delhi Daredevils</td>\n",
       "      <td>Royal Challengers Bangalore</td>\n",
       "      <td>bat</td>\n",
       "      <td>normal</td>\n",
       "      <td>0</td>\n",
       "      <td>Royal Challengers Bangalore</td>\n",
       "      <td>15</td>\n",
       "      <td>0</td>\n",
       "      <td>KM Jadhav</td>\n",
       "      <td>M Chinnaswamy Stadium</td>\n",
       "      <td>NaN</td>\n",
       "      <td>NaN</td>\n",
       "      <td>NaN</td>\n",
       "    </tr>\n",
       "  </tbody>\n",
       "</table>\n",
       "</div>"
      ],
      "text/plain": [
       "   id    Season       city        date                        team1  \\\n",
       "0   1  IPL-2017  Hyderabad  05-04-2017          Sunrisers Hyderabad   \n",
       "1   2  IPL-2017       Pune  06-04-2017               Mumbai Indians   \n",
       "2   3  IPL-2017     Rajkot  07-04-2017                Gujarat Lions   \n",
       "3   4  IPL-2017     Indore  08-04-2017       Rising Pune Supergiant   \n",
       "4   5  IPL-2017  Bangalore  08-04-2017  Royal Challengers Bangalore   \n",
       "\n",
       "                         team2                  toss_winner toss_decision  \\\n",
       "0  Royal Challengers Bangalore  Royal Challengers Bangalore         field   \n",
       "1       Rising Pune Supergiant       Rising Pune Supergiant         field   \n",
       "2        Kolkata Knight Riders        Kolkata Knight Riders         field   \n",
       "3              Kings XI Punjab              Kings XI Punjab         field   \n",
       "4             Delhi Daredevils  Royal Challengers Bangalore           bat   \n",
       "\n",
       "   result  dl_applied                       winner  win_by_runs  \\\n",
       "0  normal           0          Sunrisers Hyderabad           35   \n",
       "1  normal           0       Rising Pune Supergiant            0   \n",
       "2  normal           0        Kolkata Knight Riders            0   \n",
       "3  normal           0              Kings XI Punjab            0   \n",
       "4  normal           0  Royal Challengers Bangalore           15   \n",
       "\n",
       "   win_by_wickets player_of_match                                      venue  \\\n",
       "0               0    Yuvraj Singh  Rajiv Gandhi International Stadium, Uppal   \n",
       "1               7       SPD Smith    Maharashtra Cricket Association Stadium   \n",
       "2              10         CA Lynn     Saurashtra Cricket Association Stadium   \n",
       "3               6      GJ Maxwell                     Holkar Cricket Stadium   \n",
       "4               0       KM Jadhav                      M Chinnaswamy Stadium   \n",
       "\n",
       "          umpire1        umpire2 umpire3  \n",
       "0     AY Dandekar       NJ Llong     NaN  \n",
       "1  A Nand Kishore         S Ravi     NaN  \n",
       "2     Nitin Menon      CK Nandan     NaN  \n",
       "3    AK Chaudhary  C Shamshuddin     NaN  \n",
       "4             NaN            NaN     NaN  "
      ]
     },
     "execution_count": 4,
     "metadata": {},
     "output_type": "execute_result"
    }
   ],
   "source": [
    "df_matches.head()"
   ]
  },
  {
   "cell_type": "code",
   "execution_count": 5,
   "id": "b8c7d061",
   "metadata": {
    "colab": {
     "base_uri": "https://localhost:8080/",
     "height": 399
    },
    "id": "b8c7d061",
    "outputId": "f50b49f6-90c4-4b02-e996-1be7a5c6bc83",
    "scrolled": true
   },
   "outputs": [
    {
     "data": {
      "text/html": [
       "<div>\n",
       "<style scoped>\n",
       "    .dataframe tbody tr th:only-of-type {\n",
       "        vertical-align: middle;\n",
       "    }\n",
       "\n",
       "    .dataframe tbody tr th {\n",
       "        vertical-align: top;\n",
       "    }\n",
       "\n",
       "    .dataframe thead th {\n",
       "        text-align: right;\n",
       "    }\n",
       "</style>\n",
       "<table border=\"1\" class=\"dataframe\">\n",
       "  <thead>\n",
       "    <tr style=\"text-align: right;\">\n",
       "      <th></th>\n",
       "      <th>match_id</th>\n",
       "      <th>inning</th>\n",
       "      <th>batting_team</th>\n",
       "      <th>bowling_team</th>\n",
       "      <th>over</th>\n",
       "      <th>ball</th>\n",
       "      <th>batsman</th>\n",
       "      <th>non_striker</th>\n",
       "      <th>bowler</th>\n",
       "      <th>is_super_over</th>\n",
       "      <th>wide_runs</th>\n",
       "      <th>bye_runs</th>\n",
       "      <th>legbye_runs</th>\n",
       "      <th>noball_runs</th>\n",
       "      <th>penalty_runs</th>\n",
       "      <th>batsman_runs</th>\n",
       "      <th>extra_runs</th>\n",
       "      <th>total_runs</th>\n",
       "      <th>player_dismissed</th>\n",
       "      <th>dismissal_kind</th>\n",
       "      <th>fielder</th>\n",
       "    </tr>\n",
       "  </thead>\n",
       "  <tbody>\n",
       "    <tr>\n",
       "      <th>0</th>\n",
       "      <td>1</td>\n",
       "      <td>1</td>\n",
       "      <td>Sunrisers Hyderabad</td>\n",
       "      <td>Royal Challengers Bangalore</td>\n",
       "      <td>1</td>\n",
       "      <td>1</td>\n",
       "      <td>DA Warner</td>\n",
       "      <td>S Dhawan</td>\n",
       "      <td>TS Mills</td>\n",
       "      <td>0</td>\n",
       "      <td>0</td>\n",
       "      <td>0</td>\n",
       "      <td>0</td>\n",
       "      <td>0</td>\n",
       "      <td>0</td>\n",
       "      <td>0</td>\n",
       "      <td>0</td>\n",
       "      <td>0</td>\n",
       "      <td>NaN</td>\n",
       "      <td>NaN</td>\n",
       "      <td>NaN</td>\n",
       "    </tr>\n",
       "    <tr>\n",
       "      <th>1</th>\n",
       "      <td>1</td>\n",
       "      <td>1</td>\n",
       "      <td>Sunrisers Hyderabad</td>\n",
       "      <td>Royal Challengers Bangalore</td>\n",
       "      <td>1</td>\n",
       "      <td>2</td>\n",
       "      <td>DA Warner</td>\n",
       "      <td>S Dhawan</td>\n",
       "      <td>TS Mills</td>\n",
       "      <td>0</td>\n",
       "      <td>0</td>\n",
       "      <td>0</td>\n",
       "      <td>0</td>\n",
       "      <td>0</td>\n",
       "      <td>0</td>\n",
       "      <td>0</td>\n",
       "      <td>0</td>\n",
       "      <td>0</td>\n",
       "      <td>NaN</td>\n",
       "      <td>NaN</td>\n",
       "      <td>NaN</td>\n",
       "    </tr>\n",
       "    <tr>\n",
       "      <th>2</th>\n",
       "      <td>1</td>\n",
       "      <td>1</td>\n",
       "      <td>Sunrisers Hyderabad</td>\n",
       "      <td>Royal Challengers Bangalore</td>\n",
       "      <td>1</td>\n",
       "      <td>3</td>\n",
       "      <td>DA Warner</td>\n",
       "      <td>S Dhawan</td>\n",
       "      <td>TS Mills</td>\n",
       "      <td>0</td>\n",
       "      <td>0</td>\n",
       "      <td>0</td>\n",
       "      <td>0</td>\n",
       "      <td>0</td>\n",
       "      <td>0</td>\n",
       "      <td>4</td>\n",
       "      <td>0</td>\n",
       "      <td>4</td>\n",
       "      <td>NaN</td>\n",
       "      <td>NaN</td>\n",
       "      <td>NaN</td>\n",
       "    </tr>\n",
       "    <tr>\n",
       "      <th>3</th>\n",
       "      <td>1</td>\n",
       "      <td>1</td>\n",
       "      <td>Sunrisers Hyderabad</td>\n",
       "      <td>Royal Challengers Bangalore</td>\n",
       "      <td>1</td>\n",
       "      <td>4</td>\n",
       "      <td>DA Warner</td>\n",
       "      <td>S Dhawan</td>\n",
       "      <td>TS Mills</td>\n",
       "      <td>0</td>\n",
       "      <td>0</td>\n",
       "      <td>0</td>\n",
       "      <td>0</td>\n",
       "      <td>0</td>\n",
       "      <td>0</td>\n",
       "      <td>0</td>\n",
       "      <td>0</td>\n",
       "      <td>0</td>\n",
       "      <td>NaN</td>\n",
       "      <td>NaN</td>\n",
       "      <td>NaN</td>\n",
       "    </tr>\n",
       "    <tr>\n",
       "      <th>4</th>\n",
       "      <td>1</td>\n",
       "      <td>1</td>\n",
       "      <td>Sunrisers Hyderabad</td>\n",
       "      <td>Royal Challengers Bangalore</td>\n",
       "      <td>1</td>\n",
       "      <td>5</td>\n",
       "      <td>DA Warner</td>\n",
       "      <td>S Dhawan</td>\n",
       "      <td>TS Mills</td>\n",
       "      <td>0</td>\n",
       "      <td>2</td>\n",
       "      <td>0</td>\n",
       "      <td>0</td>\n",
       "      <td>0</td>\n",
       "      <td>0</td>\n",
       "      <td>0</td>\n",
       "      <td>2</td>\n",
       "      <td>2</td>\n",
       "      <td>NaN</td>\n",
       "      <td>NaN</td>\n",
       "      <td>NaN</td>\n",
       "    </tr>\n",
       "  </tbody>\n",
       "</table>\n",
       "</div>"
      ],
      "text/plain": [
       "   match_id  inning         batting_team                 bowling_team  over  \\\n",
       "0         1       1  Sunrisers Hyderabad  Royal Challengers Bangalore     1   \n",
       "1         1       1  Sunrisers Hyderabad  Royal Challengers Bangalore     1   \n",
       "2         1       1  Sunrisers Hyderabad  Royal Challengers Bangalore     1   \n",
       "3         1       1  Sunrisers Hyderabad  Royal Challengers Bangalore     1   \n",
       "4         1       1  Sunrisers Hyderabad  Royal Challengers Bangalore     1   \n",
       "\n",
       "   ball    batsman non_striker    bowler  is_super_over  wide_runs  bye_runs  \\\n",
       "0     1  DA Warner    S Dhawan  TS Mills              0          0         0   \n",
       "1     2  DA Warner    S Dhawan  TS Mills              0          0         0   \n",
       "2     3  DA Warner    S Dhawan  TS Mills              0          0         0   \n",
       "3     4  DA Warner    S Dhawan  TS Mills              0          0         0   \n",
       "4     5  DA Warner    S Dhawan  TS Mills              0          2         0   \n",
       "\n",
       "   legbye_runs  noball_runs  penalty_runs  batsman_runs  extra_runs  \\\n",
       "0            0            0             0             0           0   \n",
       "1            0            0             0             0           0   \n",
       "2            0            0             0             4           0   \n",
       "3            0            0             0             0           0   \n",
       "4            0            0             0             0           2   \n",
       "\n",
       "   total_runs player_dismissed dismissal_kind fielder  \n",
       "0           0              NaN            NaN     NaN  \n",
       "1           0              NaN            NaN     NaN  \n",
       "2           4              NaN            NaN     NaN  \n",
       "3           0              NaN            NaN     NaN  \n",
       "4           2              NaN            NaN     NaN  "
      ]
     },
     "execution_count": 5,
     "metadata": {},
     "output_type": "execute_result"
    }
   ],
   "source": [
    "df_delivery.head()"
   ]
  },
  {
   "cell_type": "code",
   "execution_count": 6,
   "id": "d67fd760",
   "metadata": {
    "colab": {
     "base_uri": "https://localhost:8080/",
     "height": 310
    },
    "id": "d67fd760",
    "outputId": "30e37208-2f7f-44fc-d105-beb8b20147b7"
   },
   "outputs": [
    {
     "data": {
      "text/html": [
       "<div>\n",
       "<style scoped>\n",
       "    .dataframe tbody tr th:only-of-type {\n",
       "        vertical-align: middle;\n",
       "    }\n",
       "\n",
       "    .dataframe tbody tr th {\n",
       "        vertical-align: top;\n",
       "    }\n",
       "\n",
       "    .dataframe thead th {\n",
       "        text-align: right;\n",
       "    }\n",
       "</style>\n",
       "<table border=\"1\" class=\"dataframe\">\n",
       "  <thead>\n",
       "    <tr style=\"text-align: right;\">\n",
       "      <th></th>\n",
       "      <th>mid</th>\n",
       "      <th>date</th>\n",
       "      <th>venue</th>\n",
       "      <th>bat_team</th>\n",
       "      <th>bowl_team</th>\n",
       "      <th>batsman</th>\n",
       "      <th>bowler</th>\n",
       "      <th>runs</th>\n",
       "      <th>wickets</th>\n",
       "      <th>overs</th>\n",
       "      <th>runs_last_5</th>\n",
       "      <th>wickets_last_5</th>\n",
       "      <th>striker</th>\n",
       "      <th>non-striker</th>\n",
       "      <th>total</th>\n",
       "    </tr>\n",
       "  </thead>\n",
       "  <tbody>\n",
       "    <tr>\n",
       "      <th>0</th>\n",
       "      <td>1</td>\n",
       "      <td>2008-04-18</td>\n",
       "      <td>M Chinnaswamy Stadium</td>\n",
       "      <td>Kolkata Knight Riders</td>\n",
       "      <td>Royal Challengers Bangalore</td>\n",
       "      <td>SC Ganguly</td>\n",
       "      <td>P Kumar</td>\n",
       "      <td>1</td>\n",
       "      <td>0</td>\n",
       "      <td>0.1</td>\n",
       "      <td>1</td>\n",
       "      <td>0</td>\n",
       "      <td>0</td>\n",
       "      <td>0</td>\n",
       "      <td>222</td>\n",
       "    </tr>\n",
       "    <tr>\n",
       "      <th>1</th>\n",
       "      <td>1</td>\n",
       "      <td>2008-04-18</td>\n",
       "      <td>M Chinnaswamy Stadium</td>\n",
       "      <td>Kolkata Knight Riders</td>\n",
       "      <td>Royal Challengers Bangalore</td>\n",
       "      <td>BB McCullum</td>\n",
       "      <td>P Kumar</td>\n",
       "      <td>1</td>\n",
       "      <td>0</td>\n",
       "      <td>0.2</td>\n",
       "      <td>1</td>\n",
       "      <td>0</td>\n",
       "      <td>0</td>\n",
       "      <td>0</td>\n",
       "      <td>222</td>\n",
       "    </tr>\n",
       "    <tr>\n",
       "      <th>2</th>\n",
       "      <td>1</td>\n",
       "      <td>2008-04-18</td>\n",
       "      <td>M Chinnaswamy Stadium</td>\n",
       "      <td>Kolkata Knight Riders</td>\n",
       "      <td>Royal Challengers Bangalore</td>\n",
       "      <td>BB McCullum</td>\n",
       "      <td>P Kumar</td>\n",
       "      <td>2</td>\n",
       "      <td>0</td>\n",
       "      <td>0.2</td>\n",
       "      <td>2</td>\n",
       "      <td>0</td>\n",
       "      <td>0</td>\n",
       "      <td>0</td>\n",
       "      <td>222</td>\n",
       "    </tr>\n",
       "    <tr>\n",
       "      <th>3</th>\n",
       "      <td>1</td>\n",
       "      <td>2008-04-18</td>\n",
       "      <td>M Chinnaswamy Stadium</td>\n",
       "      <td>Kolkata Knight Riders</td>\n",
       "      <td>Royal Challengers Bangalore</td>\n",
       "      <td>BB McCullum</td>\n",
       "      <td>P Kumar</td>\n",
       "      <td>2</td>\n",
       "      <td>0</td>\n",
       "      <td>0.3</td>\n",
       "      <td>2</td>\n",
       "      <td>0</td>\n",
       "      <td>0</td>\n",
       "      <td>0</td>\n",
       "      <td>222</td>\n",
       "    </tr>\n",
       "    <tr>\n",
       "      <th>4</th>\n",
       "      <td>1</td>\n",
       "      <td>2008-04-18</td>\n",
       "      <td>M Chinnaswamy Stadium</td>\n",
       "      <td>Kolkata Knight Riders</td>\n",
       "      <td>Royal Challengers Bangalore</td>\n",
       "      <td>BB McCullum</td>\n",
       "      <td>P Kumar</td>\n",
       "      <td>2</td>\n",
       "      <td>0</td>\n",
       "      <td>0.4</td>\n",
       "      <td>2</td>\n",
       "      <td>0</td>\n",
       "      <td>0</td>\n",
       "      <td>0</td>\n",
       "      <td>222</td>\n",
       "    </tr>\n",
       "    <tr>\n",
       "      <th>...</th>\n",
       "      <td>...</td>\n",
       "      <td>...</td>\n",
       "      <td>...</td>\n",
       "      <td>...</td>\n",
       "      <td>...</td>\n",
       "      <td>...</td>\n",
       "      <td>...</td>\n",
       "      <td>...</td>\n",
       "      <td>...</td>\n",
       "      <td>...</td>\n",
       "      <td>...</td>\n",
       "      <td>...</td>\n",
       "      <td>...</td>\n",
       "      <td>...</td>\n",
       "      <td>...</td>\n",
       "    </tr>\n",
       "    <tr>\n",
       "      <th>76009</th>\n",
       "      <td>617</td>\n",
       "      <td>2017-05-21</td>\n",
       "      <td>Rajiv Gandhi International Stadium, Uppal</td>\n",
       "      <td>Mumbai Indians</td>\n",
       "      <td>Rising Pune Supergiant</td>\n",
       "      <td>KH Pandya</td>\n",
       "      <td>DT Christian</td>\n",
       "      <td>121</td>\n",
       "      <td>7</td>\n",
       "      <td>19.2</td>\n",
       "      <td>40</td>\n",
       "      <td>0</td>\n",
       "      <td>40</td>\n",
       "      <td>12</td>\n",
       "      <td>129</td>\n",
       "    </tr>\n",
       "    <tr>\n",
       "      <th>76010</th>\n",
       "      <td>617</td>\n",
       "      <td>2017-05-21</td>\n",
       "      <td>Rajiv Gandhi International Stadium, Uppal</td>\n",
       "      <td>Mumbai Indians</td>\n",
       "      <td>Rising Pune Supergiant</td>\n",
       "      <td>KH Pandya</td>\n",
       "      <td>DT Christian</td>\n",
       "      <td>127</td>\n",
       "      <td>7</td>\n",
       "      <td>19.3</td>\n",
       "      <td>46</td>\n",
       "      <td>0</td>\n",
       "      <td>46</td>\n",
       "      <td>12</td>\n",
       "      <td>129</td>\n",
       "    </tr>\n",
       "    <tr>\n",
       "      <th>76011</th>\n",
       "      <td>617</td>\n",
       "      <td>2017-05-21</td>\n",
       "      <td>Rajiv Gandhi International Stadium, Uppal</td>\n",
       "      <td>Mumbai Indians</td>\n",
       "      <td>Rising Pune Supergiant</td>\n",
       "      <td>KH Pandya</td>\n",
       "      <td>DT Christian</td>\n",
       "      <td>128</td>\n",
       "      <td>7</td>\n",
       "      <td>19.4</td>\n",
       "      <td>47</td>\n",
       "      <td>0</td>\n",
       "      <td>47</td>\n",
       "      <td>12</td>\n",
       "      <td>129</td>\n",
       "    </tr>\n",
       "    <tr>\n",
       "      <th>76012</th>\n",
       "      <td>617</td>\n",
       "      <td>2017-05-21</td>\n",
       "      <td>Rajiv Gandhi International Stadium, Uppal</td>\n",
       "      <td>Mumbai Indians</td>\n",
       "      <td>Rising Pune Supergiant</td>\n",
       "      <td>MG Johnson</td>\n",
       "      <td>DT Christian</td>\n",
       "      <td>129</td>\n",
       "      <td>7</td>\n",
       "      <td>19.5</td>\n",
       "      <td>48</td>\n",
       "      <td>0</td>\n",
       "      <td>47</td>\n",
       "      <td>13</td>\n",
       "      <td>129</td>\n",
       "    </tr>\n",
       "    <tr>\n",
       "      <th>76013</th>\n",
       "      <td>617</td>\n",
       "      <td>2017-05-21</td>\n",
       "      <td>Rajiv Gandhi International Stadium, Uppal</td>\n",
       "      <td>Mumbai Indians</td>\n",
       "      <td>Rising Pune Supergiant</td>\n",
       "      <td>KH Pandya</td>\n",
       "      <td>DT Christian</td>\n",
       "      <td>129</td>\n",
       "      <td>8</td>\n",
       "      <td>19.6</td>\n",
       "      <td>47</td>\n",
       "      <td>1</td>\n",
       "      <td>47</td>\n",
       "      <td>13</td>\n",
       "      <td>129</td>\n",
       "    </tr>\n",
       "  </tbody>\n",
       "</table>\n",
       "<p>76014 rows × 15 columns</p>\n",
       "</div>"
      ],
      "text/plain": [
       "       mid        date                                      venue  \\\n",
       "0        1  2008-04-18                      M Chinnaswamy Stadium   \n",
       "1        1  2008-04-18                      M Chinnaswamy Stadium   \n",
       "2        1  2008-04-18                      M Chinnaswamy Stadium   \n",
       "3        1  2008-04-18                      M Chinnaswamy Stadium   \n",
       "4        1  2008-04-18                      M Chinnaswamy Stadium   \n",
       "...    ...         ...                                        ...   \n",
       "76009  617  2017-05-21  Rajiv Gandhi International Stadium, Uppal   \n",
       "76010  617  2017-05-21  Rajiv Gandhi International Stadium, Uppal   \n",
       "76011  617  2017-05-21  Rajiv Gandhi International Stadium, Uppal   \n",
       "76012  617  2017-05-21  Rajiv Gandhi International Stadium, Uppal   \n",
       "76013  617  2017-05-21  Rajiv Gandhi International Stadium, Uppal   \n",
       "\n",
       "                    bat_team                    bowl_team      batsman  \\\n",
       "0      Kolkata Knight Riders  Royal Challengers Bangalore   SC Ganguly   \n",
       "1      Kolkata Knight Riders  Royal Challengers Bangalore  BB McCullum   \n",
       "2      Kolkata Knight Riders  Royal Challengers Bangalore  BB McCullum   \n",
       "3      Kolkata Knight Riders  Royal Challengers Bangalore  BB McCullum   \n",
       "4      Kolkata Knight Riders  Royal Challengers Bangalore  BB McCullum   \n",
       "...                      ...                          ...          ...   \n",
       "76009         Mumbai Indians       Rising Pune Supergiant    KH Pandya   \n",
       "76010         Mumbai Indians       Rising Pune Supergiant    KH Pandya   \n",
       "76011         Mumbai Indians       Rising Pune Supergiant    KH Pandya   \n",
       "76012         Mumbai Indians       Rising Pune Supergiant   MG Johnson   \n",
       "76013         Mumbai Indians       Rising Pune Supergiant    KH Pandya   \n",
       "\n",
       "             bowler  runs  wickets  overs  runs_last_5  wickets_last_5  \\\n",
       "0           P Kumar     1        0    0.1            1               0   \n",
       "1           P Kumar     1        0    0.2            1               0   \n",
       "2           P Kumar     2        0    0.2            2               0   \n",
       "3           P Kumar     2        0    0.3            2               0   \n",
       "4           P Kumar     2        0    0.4            2               0   \n",
       "...             ...   ...      ...    ...          ...             ...   \n",
       "76009  DT Christian   121        7   19.2           40               0   \n",
       "76010  DT Christian   127        7   19.3           46               0   \n",
       "76011  DT Christian   128        7   19.4           47               0   \n",
       "76012  DT Christian   129        7   19.5           48               0   \n",
       "76013  DT Christian   129        8   19.6           47               1   \n",
       "\n",
       "       striker  non-striker  total  \n",
       "0            0            0    222  \n",
       "1            0            0    222  \n",
       "2            0            0    222  \n",
       "3            0            0    222  \n",
       "4            0            0    222  \n",
       "...        ...          ...    ...  \n",
       "76009       40           12    129  \n",
       "76010       46           12    129  \n",
       "76011       47           12    129  \n",
       "76012       47           13    129  \n",
       "76013       47           13    129  \n",
       "\n",
       "[76014 rows x 15 columns]"
      ]
     },
     "execution_count": 6,
     "metadata": {},
     "output_type": "execute_result"
    }
   ],
   "source": [
    "df_ipl"
   ]
  },
  {
   "cell_type": "code",
   "execution_count": 7,
   "id": "4f9a7791",
   "metadata": {
    "colab": {
     "base_uri": "https://localhost:8080/"
    },
    "id": "4f9a7791",
    "outputId": "4d15a0c2-6757-427a-98cd-21af830cef18"
   },
   "outputs": [
    {
     "data": {
      "text/plain": [
       "Index(['match_id', 'inning', 'batting_team', 'bowling_team', 'over', 'ball',\n",
       "       'batsman', 'non_striker', 'bowler', 'is_super_over', 'wide_runs',\n",
       "       'bye_runs', 'legbye_runs', 'noball_runs', 'penalty_runs',\n",
       "       'batsman_runs', 'extra_runs', 'total_runs', 'player_dismissed',\n",
       "       'dismissal_kind', 'fielder'],\n",
       "      dtype='object')"
      ]
     },
     "execution_count": 7,
     "metadata": {},
     "output_type": "execute_result"
    }
   ],
   "source": [
    "df_delivery.columns"
   ]
  },
  {
   "cell_type": "code",
   "execution_count": 8,
   "id": "d244bb6e",
   "metadata": {
    "colab": {
     "base_uri": "https://localhost:8080/"
    },
    "id": "d244bb6e",
    "outputId": "f6a0ae7c-e57a-4de4-a1fe-3eb2560eb6b1"
   },
   "outputs": [
    {
     "data": {
      "text/plain": [
       "Index(['id', 'Season', 'city', 'date', 'team1', 'team2', 'toss_winner',\n",
       "       'toss_decision', 'result', 'dl_applied', 'winner', 'win_by_runs',\n",
       "       'win_by_wickets', 'player_of_match', 'venue', 'umpire1', 'umpire2',\n",
       "       'umpire3'],\n",
       "      dtype='object')"
      ]
     },
     "execution_count": 8,
     "metadata": {},
     "output_type": "execute_result"
    }
   ],
   "source": [
    "df_matches.columns"
   ]
  },
  {
   "cell_type": "code",
   "execution_count": 9,
   "id": "bb64ebb3",
   "metadata": {
    "colab": {
     "base_uri": "https://localhost:8080/"
    },
    "id": "bb64ebb3",
    "outputId": "cef4e4de-9a35-4a51-c855-79eac06c6778"
   },
   "outputs": [
    {
     "data": {
      "text/plain": [
       "Index(['mid', 'date', 'venue', 'bat_team', 'bowl_team', 'batsman', 'bowler',\n",
       "       'runs', 'wickets', 'overs', 'runs_last_5', 'wickets_last_5', 'striker',\n",
       "       'non-striker', 'total'],\n",
       "      dtype='object')"
      ]
     },
     "execution_count": 9,
     "metadata": {},
     "output_type": "execute_result"
    }
   ],
   "source": [
    "df_ipl.columns"
   ]
  },
  {
   "cell_type": "markdown",
   "id": "uHyGxNC1VkHB",
   "metadata": {
    "id": "uHyGxNC1VkHB"
   },
   "source": [
    "#### filtering first inning score."
   ]
  },
  {
   "cell_type": "code",
   "execution_count": 10,
   "id": "1050c71e",
   "metadata": {
    "scrolled": true
   },
   "outputs": [],
   "source": [
    "# Select the batting team from the dropdown menu.\n",
    "# Select the bowling team from the dropdown menu.\n",
    "# Select the host city from the dropdown menu.\n",
    "# Enter the target score.\n",
    "# Enter the current score, overs completed, and wickets out.\n",
    "# Click on the \"Predict Probability\" button to see the predicted win probability for each team."
   ]
  },
  {
   "cell_type": "code",
   "execution_count": 11,
   "id": "3caed7aa",
   "metadata": {
    "id": "3caed7aa"
   },
   "outputs": [],
   "source": [
    "df_matches_copy = df_matches[['id','city']]\n",
    "df_delivery_copy = df_delivery[['match_id','batting_team','bowling_team']]\n",
    "df_ipl_copy = df_ipl[['mid','wickets','runs','overs','total']]"
   ]
  },
  {
   "cell_type": "code",
   "execution_count": 12,
   "id": "d908a5fe",
   "metadata": {
    "id": "d908a5fe"
   },
   "outputs": [],
   "source": [
    "df_matches_merge = pd.merge(df_matches_copy,df_delivery_copy,left_on = 'id',right_on='match_id')"
   ]
  },
  {
   "cell_type": "code",
   "execution_count": 14,
   "id": "720020ad",
   "metadata": {
    "id": "720020ad"
   },
   "outputs": [],
   "source": [
    "df = pd.merge(df_matches_merge,df_ipl_copy,left_on='id',right_on='mid')"
   ]
  },
  {
   "cell_type": "code",
   "execution_count": 15,
   "id": "387a5341",
   "metadata": {
    "colab": {
     "base_uri": "https://localhost:8080/"
    },
    "id": "387a5341",
    "outputId": "2e65d82a-3c5f-4a5e-e6bb-51b7edfab4ca"
   },
   "outputs": [
    {
     "data": {
      "text/plain": [
       "177568"
      ]
     },
     "execution_count": 15,
     "metadata": {},
     "output_type": "execute_result"
    }
   ],
   "source": [
    "df_matches_merge.duplicated().sum()"
   ]
  },
  {
   "cell_type": "code",
   "execution_count": 16,
   "id": "100def30",
   "metadata": {
    "colab": {
     "base_uri": "https://localhost:8080/"
    },
    "id": "100def30",
    "outputId": "913e087c-b621-4964-f09d-3286382683b9"
   },
   "outputs": [
    {
     "data": {
      "text/plain": [
       "17846720"
      ]
     },
     "execution_count": 16,
     "metadata": {},
     "output_type": "execute_result"
    }
   ],
   "source": [
    "df.duplicated().sum()"
   ]
  },
  {
   "cell_type": "code",
   "execution_count": 17,
   "id": "0bea9b93",
   "metadata": {
    "id": "0bea9b93"
   },
   "outputs": [],
   "source": [
    "df1 = df.drop(['id','match_id','mid'],axis=1)"
   ]
  },
  {
   "cell_type": "code",
   "execution_count": 18,
   "id": "909a6e18",
   "metadata": {
    "colab": {
     "base_uri": "https://localhost:8080/"
    },
    "id": "909a6e18",
    "outputId": "78901bab-f09e-474a-84b1-7a8a6c0fa5b4"
   },
   "outputs": [
    {
     "data": {
      "text/plain": [
       "17846826"
      ]
     },
     "execution_count": 18,
     "metadata": {},
     "output_type": "execute_result"
    }
   ],
   "source": [
    "df1.duplicated().sum()"
   ]
  },
  {
   "cell_type": "code",
   "execution_count": 19,
   "id": "f3686c17",
   "metadata": {
    "id": "f3686c17"
   },
   "outputs": [],
   "source": [
    "df1 = df1.drop_duplicates()"
   ]
  },
  {
   "cell_type": "code",
   "execution_count": 20,
   "id": "c2fb0e50",
   "metadata": {
    "colab": {
     "base_uri": "https://localhost:8080/"
    },
    "id": "c2fb0e50",
    "outputId": "106be7b2-7067-483a-f4a7-c5141761c3c0"
   },
   "outputs": [
    {
     "data": {
      "text/plain": [
       "(151679, 7)"
      ]
     },
     "execution_count": 20,
     "metadata": {},
     "output_type": "execute_result"
    }
   ],
   "source": [
    "\n",
    "df1.shape"
   ]
  },
  {
   "cell_type": "code",
   "execution_count": 21,
   "id": "24dd7369",
   "metadata": {},
   "outputs": [
    {
     "data": {
      "text/html": [
       "<div>\n",
       "<style scoped>\n",
       "    .dataframe tbody tr th:only-of-type {\n",
       "        vertical-align: middle;\n",
       "    }\n",
       "\n",
       "    .dataframe tbody tr th {\n",
       "        vertical-align: top;\n",
       "    }\n",
       "\n",
       "    .dataframe thead th {\n",
       "        text-align: right;\n",
       "    }\n",
       "</style>\n",
       "<table border=\"1\" class=\"dataframe\">\n",
       "  <thead>\n",
       "    <tr style=\"text-align: right;\">\n",
       "      <th></th>\n",
       "      <th>city</th>\n",
       "      <th>batting_team</th>\n",
       "      <th>bowling_team</th>\n",
       "      <th>wickets</th>\n",
       "      <th>runs</th>\n",
       "      <th>overs</th>\n",
       "      <th>total</th>\n",
       "    </tr>\n",
       "  </thead>\n",
       "  <tbody>\n",
       "    <tr>\n",
       "      <th>0</th>\n",
       "      <td>Hyderabad</td>\n",
       "      <td>Sunrisers Hyderabad</td>\n",
       "      <td>Royal Challengers Bangalore</td>\n",
       "      <td>0</td>\n",
       "      <td>1</td>\n",
       "      <td>0.1</td>\n",
       "      <td>222</td>\n",
       "    </tr>\n",
       "    <tr>\n",
       "      <th>1</th>\n",
       "      <td>Hyderabad</td>\n",
       "      <td>Sunrisers Hyderabad</td>\n",
       "      <td>Royal Challengers Bangalore</td>\n",
       "      <td>0</td>\n",
       "      <td>1</td>\n",
       "      <td>0.2</td>\n",
       "      <td>222</td>\n",
       "    </tr>\n",
       "    <tr>\n",
       "      <th>2</th>\n",
       "      <td>Hyderabad</td>\n",
       "      <td>Sunrisers Hyderabad</td>\n",
       "      <td>Royal Challengers Bangalore</td>\n",
       "      <td>0</td>\n",
       "      <td>2</td>\n",
       "      <td>0.2</td>\n",
       "      <td>222</td>\n",
       "    </tr>\n",
       "    <tr>\n",
       "      <th>3</th>\n",
       "      <td>Hyderabad</td>\n",
       "      <td>Sunrisers Hyderabad</td>\n",
       "      <td>Royal Challengers Bangalore</td>\n",
       "      <td>0</td>\n",
       "      <td>2</td>\n",
       "      <td>0.3</td>\n",
       "      <td>222</td>\n",
       "    </tr>\n",
       "    <tr>\n",
       "      <th>4</th>\n",
       "      <td>Hyderabad</td>\n",
       "      <td>Sunrisers Hyderabad</td>\n",
       "      <td>Royal Challengers Bangalore</td>\n",
       "      <td>0</td>\n",
       "      <td>2</td>\n",
       "      <td>0.4</td>\n",
       "      <td>222</td>\n",
       "    </tr>\n",
       "    <tr>\n",
       "      <th>...</th>\n",
       "      <td>...</td>\n",
       "      <td>...</td>\n",
       "      <td>...</td>\n",
       "      <td>...</td>\n",
       "      <td>...</td>\n",
       "      <td>...</td>\n",
       "      <td>...</td>\n",
       "    </tr>\n",
       "    <tr>\n",
       "      <th>17983375</th>\n",
       "      <td>Bangalore</td>\n",
       "      <td>Mumbai Indians</td>\n",
       "      <td>Royal Challengers Bangalore</td>\n",
       "      <td>7</td>\n",
       "      <td>121</td>\n",
       "      <td>19.2</td>\n",
       "      <td>129</td>\n",
       "    </tr>\n",
       "    <tr>\n",
       "      <th>17983376</th>\n",
       "      <td>Bangalore</td>\n",
       "      <td>Mumbai Indians</td>\n",
       "      <td>Royal Challengers Bangalore</td>\n",
       "      <td>7</td>\n",
       "      <td>127</td>\n",
       "      <td>19.3</td>\n",
       "      <td>129</td>\n",
       "    </tr>\n",
       "    <tr>\n",
       "      <th>17983377</th>\n",
       "      <td>Bangalore</td>\n",
       "      <td>Mumbai Indians</td>\n",
       "      <td>Royal Challengers Bangalore</td>\n",
       "      <td>7</td>\n",
       "      <td>128</td>\n",
       "      <td>19.4</td>\n",
       "      <td>129</td>\n",
       "    </tr>\n",
       "    <tr>\n",
       "      <th>17983378</th>\n",
       "      <td>Bangalore</td>\n",
       "      <td>Mumbai Indians</td>\n",
       "      <td>Royal Challengers Bangalore</td>\n",
       "      <td>7</td>\n",
       "      <td>129</td>\n",
       "      <td>19.5</td>\n",
       "      <td>129</td>\n",
       "    </tr>\n",
       "    <tr>\n",
       "      <th>17983379</th>\n",
       "      <td>Bangalore</td>\n",
       "      <td>Mumbai Indians</td>\n",
       "      <td>Royal Challengers Bangalore</td>\n",
       "      <td>8</td>\n",
       "      <td>129</td>\n",
       "      <td>19.6</td>\n",
       "      <td>129</td>\n",
       "    </tr>\n",
       "  </tbody>\n",
       "</table>\n",
       "<p>151679 rows × 7 columns</p>\n",
       "</div>"
      ],
      "text/plain": [
       "               city         batting_team                 bowling_team  \\\n",
       "0         Hyderabad  Sunrisers Hyderabad  Royal Challengers Bangalore   \n",
       "1         Hyderabad  Sunrisers Hyderabad  Royal Challengers Bangalore   \n",
       "2         Hyderabad  Sunrisers Hyderabad  Royal Challengers Bangalore   \n",
       "3         Hyderabad  Sunrisers Hyderabad  Royal Challengers Bangalore   \n",
       "4         Hyderabad  Sunrisers Hyderabad  Royal Challengers Bangalore   \n",
       "...             ...                  ...                          ...   \n",
       "17983375  Bangalore       Mumbai Indians  Royal Challengers Bangalore   \n",
       "17983376  Bangalore       Mumbai Indians  Royal Challengers Bangalore   \n",
       "17983377  Bangalore       Mumbai Indians  Royal Challengers Bangalore   \n",
       "17983378  Bangalore       Mumbai Indians  Royal Challengers Bangalore   \n",
       "17983379  Bangalore       Mumbai Indians  Royal Challengers Bangalore   \n",
       "\n",
       "          wickets  runs  overs  total  \n",
       "0               0     1    0.1    222  \n",
       "1               0     1    0.2    222  \n",
       "2               0     2    0.2    222  \n",
       "3               0     2    0.3    222  \n",
       "4               0     2    0.4    222  \n",
       "...           ...   ...    ...    ...  \n",
       "17983375        7   121   19.2    129  \n",
       "17983376        7   127   19.3    129  \n",
       "17983377        7   128   19.4    129  \n",
       "17983378        7   129   19.5    129  \n",
       "17983379        8   129   19.6    129  \n",
       "\n",
       "[151679 rows x 7 columns]"
      ]
     },
     "execution_count": 21,
     "metadata": {},
     "output_type": "execute_result"
    }
   ],
   "source": [
    "df1"
   ]
  },
  {
   "cell_type": "markdown",
   "id": "374101a9",
   "metadata": {
    "id": "374101a9"
   },
   "source": [
    "# Data Cleaning"
   ]
  },
  {
   "cell_type": "code",
   "execution_count": 22,
   "id": "342433e6",
   "metadata": {
    "id": "342433e6"
   },
   "outputs": [],
   "source": [
    "def data_cleaning(df1):\n",
    "\n",
    "    df1.replace(['Mumbai Indians','Kolkata Knight Riders','Royal Challengers Bangalore','Deccan Chargers','Chennai Super Kings',\n",
    "                     'Rajasthan Royals','Delhi Daredevils','Gujarat Lions','Kings XI Punjab',\n",
    "                     'Sunrisers Hyderabad','Rising Pune Supergiants','Kochi Tuskers Kerala','Pune Warriors','Rising Pune Supergiant']\n",
    "                    ,['MI','KKR','RCB','DC','CSK','RR','DD','GL','KXIP','SRH','RPS','KTK','PW','RPS'],inplace=True)\n",
    "\n",
    "\n",
    "data_cleaning(df1)"
   ]
  },
  {
   "cell_type": "code",
   "execution_count": 23,
   "id": "1c2953ef",
   "metadata": {
    "id": "1c2953ef"
   },
   "outputs": [],
   "source": [
    "df1 = df1.rename({'Maharashtra Cricket Association Stadium':\"Subrata Roy Sahara Stadium\"},axis=1)"
   ]
  },
  {
   "cell_type": "code",
   "execution_count": 24,
   "id": "73439ff6",
   "metadata": {
    "colab": {
     "base_uri": "https://localhost:8080/",
     "height": 206
    },
    "id": "73439ff6",
    "outputId": "774db1c9-9fa2-48e8-bd33-3334b838efff",
    "scrolled": false
   },
   "outputs": [
    {
     "data": {
      "text/html": [
       "<div>\n",
       "<style scoped>\n",
       "    .dataframe tbody tr th:only-of-type {\n",
       "        vertical-align: middle;\n",
       "    }\n",
       "\n",
       "    .dataframe tbody tr th {\n",
       "        vertical-align: top;\n",
       "    }\n",
       "\n",
       "    .dataframe thead th {\n",
       "        text-align: right;\n",
       "    }\n",
       "</style>\n",
       "<table border=\"1\" class=\"dataframe\">\n",
       "  <thead>\n",
       "    <tr style=\"text-align: right;\">\n",
       "      <th></th>\n",
       "      <th>city</th>\n",
       "      <th>batting_team</th>\n",
       "      <th>bowling_team</th>\n",
       "      <th>wickets</th>\n",
       "      <th>runs</th>\n",
       "      <th>overs</th>\n",
       "      <th>total</th>\n",
       "    </tr>\n",
       "  </thead>\n",
       "  <tbody>\n",
       "    <tr>\n",
       "      <th>0</th>\n",
       "      <td>Hyderabad</td>\n",
       "      <td>SRH</td>\n",
       "      <td>RCB</td>\n",
       "      <td>0</td>\n",
       "      <td>1</td>\n",
       "      <td>0.1</td>\n",
       "      <td>222</td>\n",
       "    </tr>\n",
       "    <tr>\n",
       "      <th>1</th>\n",
       "      <td>Hyderabad</td>\n",
       "      <td>SRH</td>\n",
       "      <td>RCB</td>\n",
       "      <td>0</td>\n",
       "      <td>1</td>\n",
       "      <td>0.2</td>\n",
       "      <td>222</td>\n",
       "    </tr>\n",
       "    <tr>\n",
       "      <th>2</th>\n",
       "      <td>Hyderabad</td>\n",
       "      <td>SRH</td>\n",
       "      <td>RCB</td>\n",
       "      <td>0</td>\n",
       "      <td>2</td>\n",
       "      <td>0.2</td>\n",
       "      <td>222</td>\n",
       "    </tr>\n",
       "    <tr>\n",
       "      <th>3</th>\n",
       "      <td>Hyderabad</td>\n",
       "      <td>SRH</td>\n",
       "      <td>RCB</td>\n",
       "      <td>0</td>\n",
       "      <td>2</td>\n",
       "      <td>0.3</td>\n",
       "      <td>222</td>\n",
       "    </tr>\n",
       "    <tr>\n",
       "      <th>4</th>\n",
       "      <td>Hyderabad</td>\n",
       "      <td>SRH</td>\n",
       "      <td>RCB</td>\n",
       "      <td>0</td>\n",
       "      <td>2</td>\n",
       "      <td>0.4</td>\n",
       "      <td>222</td>\n",
       "    </tr>\n",
       "  </tbody>\n",
       "</table>\n",
       "</div>"
      ],
      "text/plain": [
       "        city batting_team bowling_team  wickets  runs  overs  total\n",
       "0  Hyderabad          SRH          RCB        0     1    0.1    222\n",
       "1  Hyderabad          SRH          RCB        0     1    0.2    222\n",
       "2  Hyderabad          SRH          RCB        0     2    0.2    222\n",
       "3  Hyderabad          SRH          RCB        0     2    0.3    222\n",
       "4  Hyderabad          SRH          RCB        0     2    0.4    222"
      ]
     },
     "execution_count": 24,
     "metadata": {},
     "output_type": "execute_result"
    }
   ],
   "source": [
    "df1.head()"
   ]
  },
  {
   "cell_type": "code",
   "execution_count": 25,
   "id": "5c48b36b",
   "metadata": {},
   "outputs": [],
   "source": [
    "import matplotlib.pyplot as plt"
   ]
  },
  {
   "cell_type": "code",
   "execution_count": 26,
   "id": "0e992efe",
   "metadata": {},
   "outputs": [
    {
     "data": {
      "image/png": "[encoded data removed]",
      "text/plain": [
       "<Figure size 640x480 with 1 Axes>"
      ]
     },
     "metadata": {},
     "output_type": "display_data"
    }
   ],
   "source": [
    "plt.boxplot(df1['total'])\n",
    "plt.show()"
   ]
  },
  {
   "cell_type": "code",
   "execution_count": 27,
   "id": "a78d8000",
   "metadata": {
    "colab": {
     "base_uri": "https://localhost:8080/"
    },
    "id": "a78d8000",
    "outputId": "95c99126-4c85-4382-8370-09e881bb0a1b",
    "scrolled": true
   },
   "outputs": [
    {
     "data": {
      "text/plain": [
       "Index(['city', 'batting_team', 'bowling_team', 'wickets', 'runs', 'overs',\n",
       "       'total'],\n",
       "      dtype='object')"
      ]
     },
     "execution_count": 27,
     "metadata": {},
     "output_type": "execute_result"
    }
   ],
   "source": [
    "df1.columns"
   ]
  },
  {
   "cell_type": "code",
   "execution_count": 28,
   "id": "EeHwfSuLj9dC",
   "metadata": {
    "id": "EeHwfSuLj9dC"
   },
   "outputs": [],
   "source": [
    "df1 = df1.dropna()"
   ]
  },
  {
   "cell_type": "code",
   "execution_count": 29,
   "id": "b9de24dd",
   "metadata": {
    "colab": {
     "base_uri": "https://localhost:8080/"
    },
    "id": "b9de24dd",
    "outputId": "fcb1ef8f-1955-4f8c-fa55-d67a10b7f91d"
   },
   "outputs": [
    {
     "data": {
      "text/plain": [
       "(149933, 7)"
      ]
     },
     "execution_count": 29,
     "metadata": {},
     "output_type": "execute_result"
    }
   ],
   "source": [
    "df1.shape"
   ]
  },
  {
   "cell_type": "code",
   "execution_count": 30,
   "id": "e38e7c07",
   "metadata": {
    "id": "e38e7c07"
   },
   "outputs": [],
   "source": [
    "X = df1.drop('total',axis=1)\n",
    "y = df1['total']"
   ]
  },
  {
   "cell_type": "code",
   "execution_count": 31,
   "id": "0d7fb042",
   "metadata": {
    "id": "0d7fb042"
   },
   "outputs": [],
   "source": [
    "X_train,X_test,y_train,y_test = train_test_split(X,y,test_size=0.25,random_state=0)"
   ]
  },
  {
   "cell_type": "code",
   "execution_count": 32,
   "id": "15317eb1",
   "metadata": {
    "colab": {
     "base_uri": "https://localhost:8080/"
    },
    "id": "15317eb1",
    "outputId": "9caedc00-f758-44fb-e453-4bb90b366d76"
   },
   "outputs": [
    {
     "name": "stdout",
     "output_type": "stream",
     "text": [
      "(112449, 6) (112449,)\n",
      "(37484, 6) (37484,)\n"
     ]
    }
   ],
   "source": [
    "print(X_train.shape,y_train.shape)\n",
    "print(X_test.shape,y_test.shape)"
   ]
  },
  {
   "cell_type": "code",
   "execution_count": 33,
   "id": "9565c340",
   "metadata": {
    "id": "9565c340"
   },
   "outputs": [],
   "source": [
    "# def data_encoding()\n",
    "\n",
    "from sklearn.preprocessing import OneHotEncoder,StandardScaler,MinMaxScaler,LabelEncoder\n",
    "from sklearn.neighbors import KNeighborsRegressor"
   ]
  },
  {
   "cell_type": "code",
   "execution_count": 34,
   "id": "00b5c077",
   "metadata": {
    "id": "00b5c077"
   },
   "outputs": [],
   "source": [
    "X_train_cat = X_train.select_dtypes(include=['object'])\n",
    "X_test_cat = X_test.select_dtypes(include=['object'])\n",
    "\n",
    "X_train_num = X_train.select_dtypes(include=['int64','float64'])\n",
    "X_test_num = X_test.select_dtypes(include=['int64','float64'])"
   ]
  },
  {
   "cell_type": "code",
   "execution_count": 35,
   "id": "uJC2sfh1hiW8",
   "metadata": {
    "id": "uJC2sfh1hiW8"
   },
   "outputs": [],
   "source": [
    "def label_encoding(train_df,test_df):\n",
    "    label_encoder = LabelEncoder()\n",
    "    for col in train_df:\n",
    "        train_df[col] = label_encoder.fit_transform(train_df[col])\n",
    "        test_df[col] = label_encoder.transform(test_df[col])\n",
    "\n",
    "    return train_df,test_df\n",
    "X_train_transform, X_test_transform = label_encoding(X_train_cat,X_test_cat)"
   ]
  },
  {
   "cell_type": "code",
   "execution_count": 36,
   "id": "a9099d93",
   "metadata": {
    "id": "a9099d93"
   },
   "outputs": [],
   "source": [
    "X_train_transform = pd.concat([X_train_num,X_train_transform],axis=1)\n"
   ]
  },
  {
   "cell_type": "code",
   "execution_count": 37,
   "id": "3dbd722a",
   "metadata": {
    "scrolled": true
   },
   "outputs": [
    {
     "data": {
      "text/html": [
       "<div>\n",
       "<style scoped>\n",
       "    .dataframe tbody tr th:only-of-type {\n",
       "        vertical-align: middle;\n",
       "    }\n",
       "\n",
       "    .dataframe tbody tr th {\n",
       "        vertical-align: top;\n",
       "    }\n",
       "\n",
       "    .dataframe thead th {\n",
       "        text-align: right;\n",
       "    }\n",
       "</style>\n",
       "<table border=\"1\" class=\"dataframe\">\n",
       "  <thead>\n",
       "    <tr style=\"text-align: right;\">\n",
       "      <th></th>\n",
       "      <th>wickets</th>\n",
       "      <th>runs</th>\n",
       "      <th>overs</th>\n",
       "      <th>city</th>\n",
       "      <th>batting_team</th>\n",
       "      <th>bowling_team</th>\n",
       "    </tr>\n",
       "  </thead>\n",
       "  <tbody>\n",
       "    <tr>\n",
       "      <th>16380595</th>\n",
       "      <td>3</td>\n",
       "      <td>64</td>\n",
       "      <td>7.1</td>\n",
       "      <td>25</td>\n",
       "      <td>2</td>\n",
       "      <td>12</td>\n",
       "    </tr>\n",
       "    <tr>\n",
       "      <th>12254287</th>\n",
       "      <td>3</td>\n",
       "      <td>116</td>\n",
       "      <td>11.1</td>\n",
       "      <td>15</td>\n",
       "      <td>9</td>\n",
       "      <td>11</td>\n",
       "    </tr>\n",
       "    <tr>\n",
       "      <th>11684417</th>\n",
       "      <td>2</td>\n",
       "      <td>40</td>\n",
       "      <td>5.4</td>\n",
       "      <td>6</td>\n",
       "      <td>4</td>\n",
       "      <td>6</td>\n",
       "    </tr>\n",
       "    <tr>\n",
       "      <th>13471938</th>\n",
       "      <td>3</td>\n",
       "      <td>41</td>\n",
       "      <td>7.2</td>\n",
       "      <td>0</td>\n",
       "      <td>11</td>\n",
       "      <td>12</td>\n",
       "    </tr>\n",
       "    <tr>\n",
       "      <th>3200207</th>\n",
       "      <td>3</td>\n",
       "      <td>89</td>\n",
       "      <td>8.6</td>\n",
       "      <td>20</td>\n",
       "      <td>6</td>\n",
       "      <td>4</td>\n",
       "    </tr>\n",
       "    <tr>\n",
       "      <th>...</th>\n",
       "      <td>...</td>\n",
       "      <td>...</td>\n",
       "      <td>...</td>\n",
       "      <td>...</td>\n",
       "      <td>...</td>\n",
       "      <td>...</td>\n",
       "    </tr>\n",
       "    <tr>\n",
       "      <th>4927047</th>\n",
       "      <td>4</td>\n",
       "      <td>139</td>\n",
       "      <td>17.1</td>\n",
       "      <td>5</td>\n",
       "      <td>7</td>\n",
       "      <td>2</td>\n",
       "    </tr>\n",
       "    <tr>\n",
       "      <th>11578728</th>\n",
       "      <td>4</td>\n",
       "      <td>147</td>\n",
       "      <td>17.3</td>\n",
       "      <td>20</td>\n",
       "      <td>4</td>\n",
       "      <td>12</td>\n",
       "    </tr>\n",
       "    <tr>\n",
       "      <th>11381359</th>\n",
       "      <td>1</td>\n",
       "      <td>32</td>\n",
       "      <td>6.2</td>\n",
       "      <td>21</td>\n",
       "      <td>2</td>\n",
       "      <td>7</td>\n",
       "    </tr>\n",
       "    <tr>\n",
       "      <th>14212021</th>\n",
       "      <td>3</td>\n",
       "      <td>170</td>\n",
       "      <td>16.6</td>\n",
       "      <td>1</td>\n",
       "      <td>12</td>\n",
       "      <td>11</td>\n",
       "    </tr>\n",
       "    <tr>\n",
       "      <th>5119795</th>\n",
       "      <td>3</td>\n",
       "      <td>139</td>\n",
       "      <td>17.2</td>\n",
       "      <td>21</td>\n",
       "      <td>11</td>\n",
       "      <td>7</td>\n",
       "    </tr>\n",
       "  </tbody>\n",
       "</table>\n",
       "<p>112449 rows × 6 columns</p>\n",
       "</div>"
      ],
      "text/plain": [
       "          wickets  runs  overs  city  batting_team  bowling_team\n",
       "16380595        3    64    7.1    25             2            12\n",
       "12254287        3   116   11.1    15             9            11\n",
       "11684417        2    40    5.4     6             4             6\n",
       "13471938        3    41    7.2     0            11            12\n",
       "3200207         3    89    8.6    20             6             4\n",
       "...           ...   ...    ...   ...           ...           ...\n",
       "4927047         4   139   17.1     5             7             2\n",
       "11578728        4   147   17.3    20             4            12\n",
       "11381359        1    32    6.2    21             2             7\n",
       "14212021        3   170   16.6     1            12            11\n",
       "5119795         3   139   17.2    21            11             7\n",
       "\n",
       "[112449 rows x 6 columns]"
      ]
     },
     "execution_count": 37,
     "metadata": {},
     "output_type": "execute_result"
    }
   ],
   "source": [
    "X_train_transform\n"
   ]
  },
  {
   "cell_type": "code",
   "execution_count": 38,
   "id": "e887d946",
   "metadata": {
    "id": "e887d946"
   },
   "outputs": [],
   "source": [
    "X_test_transform = pd.concat([X_test_num,X_test_transform],axis=1)"
   ]
  },
  {
   "cell_type": "markdown",
   "id": "fbf0cd98",
   "metadata": {
    "id": "fbf0cd98"
   },
   "source": [
    "### Algorithms:-\n",
    "\n",
    "1. Linear Regression\n",
    "2. Support Vector Regression\n",
    "3. Decision Tree Regression\n",
    "4. Random Forest Regression\n",
    "5. Artificial Neural Network\n",
    "4. Recursive Neural Network"
   ]
  },
  {
   "cell_type": "code",
   "execution_count": 39,
   "id": "AjEXV27Mjqi4",
   "metadata": {
    "id": "AjEXV27Mjqi4"
   },
   "outputs": [],
   "source": [
    "X_train_transform=X_train_transform.dropna()"
   ]
  },
  {
   "cell_type": "code",
   "execution_count": 40,
   "id": "af18feb9",
   "metadata": {},
   "outputs": [],
   "source": [
    "\n",
    "#\n",
    "pipelines = {\n",
    "    'linear': Pipeline([\n",
    "        ('scaler', StandardScaler()),\n",
    "        ('regression', LinearRegression())\n",
    "    ]),\n",
    "    'decision_tree': Pipeline([\n",
    "        ('scaler', StandardScaler()),\n",
    "        ('regression', DecisionTreeRegressor())\n",
    "    ]),\n",
    "    'random_forest': Pipeline([\n",
    "        ('scaler', StandardScaler()),\n",
    "        ('regression', RandomForestRegressor())\n",
    "    ])\n",
    "}\n",
    "\n",
    "# Define param_grids\n",
    "param_grids = {\n",
    "    'linear':[\n",
    "        {\n",
    "            'scaler':[StandardScaler(),MinMaxScaler()]\n",
    "        }\n",
    "    \n",
    "    ],\n",
    "    'decision_tree':[\n",
    "        {\n",
    "            'scaler':[StandardScaler(),MinMaxScaler()],\n",
    "            'regression__max_depth':[i for i in range(1,50,3)],\n",
    "            'regression__max_leaf_nodes':[i for i in range(2,10)]\n",
    "        }\n",
    "    ],\n",
    "    'random_forest':[\n",
    "        {\n",
    "            'scaler':[StandardScaler(),MinMaxScaler()],\n",
    "        }\n",
    "    ]\n",
    "}\n",
    "\n"
   ]
  },
  {
   "cell_type": "code",
   "execution_count": null,
   "id": "a0ae5f23",
   "metadata": {},
   "outputs": [],
   "source": []
  },
  {
   "cell_type": "code",
   "execution_count": 41,
   "id": "58352229",
   "metadata": {
    "scrolled": false
   },
   "outputs": [
    {
     "name": "stdout",
     "output_type": "stream",
     "text": [
      "linear\n",
      "Fitting 5 folds for each of 2 candidates, totalling 10 fits\n",
      "Train Score:  0.5109207676282812\n",
      "Test Score:  0.5016738305734183\n",
      "Mean Squared Error (MSE):  429.61834189885104\n",
      "R2 Score:  0.5016738305734183\n",
      "Root Mean Squared Error (RMSE):  20.727236716428244\n",
      "Fit Time:  2.2935163974761963\n",
      "Predict Time:  0.018963098526000977\n",
      "Model Size:  1614\n"
     ]
    },
    {
     "data": {
      "image/png": "[encoded data removed]",
      "text/plain": [
       "<Figure size 640x480 with 1 Axes>"
      ]
     },
     "metadata": {},
     "output_type": "display_data"
    },
    {
     "name": "stdout",
     "output_type": "stream",
     "text": [
      "decision_tree\n",
      "Fitting 5 folds for each of 272 candidates, totalling 1360 fits\n",
      "Train Score:  0.3418429142565465\n",
      "Test Score:  0.3326585688418502\n",
      "Mean Squared Error (MSE):  575.3302489902857\n",
      "R2 Score:  0.3326585688418502\n",
      "Root Mean Squared Error (RMSE):  23.98604279555687\n",
      "Fit Time:  379.2705383300781\n",
      "Predict Time:  0.007981061935424805\n",
      "Model Size:  3352\n"
     ]
    },
    {
     "data": {
      "image/png": "[encoded data removed]",
      "text/plain": [
       "<Figure size 640x480 with 1 Axes>"
      ]
     },
     "metadata": {},
     "output_type": "display_data"
    },
    {
     "name": "stdout",
     "output_type": "stream",
     "text": [
      "random_forest\n",
      "Fitting 5 folds for each of 2 candidates, totalling 10 fits\n",
      "Train Score:  0.8125656431246154\n",
      "Test Score:  0.8361240336858058\n",
      "Mean Squared Error (MSE):  141.28120344550499\n",
      "R2 Score:  0.8361240336858058\n",
      "Root Mean Squared Error (RMSE):  11.886176990332299\n",
      "Fit Time:  607.0228712558746\n",
      "Predict Time:  1.7607204914093018\n",
      "Model Size:  506789223\n"
     ]
    },
    {
     "data": {
      "image/png": "[encoded data removed]",
      "text/plain": [
       "<Figure size 640x480 with 1 Axes>"
      ]
     },
     "metadata": {},
     "output_type": "display_data"
    }
   ],
   "source": [
    "best_models = {}\n",
    "for algo in pipelines.keys():\n",
    "    print(algo)\n",
    "    grid_search = GridSearchCV(estimator=pipelines[algo],\n",
    "                              param_grid=param_grids[algo],\n",
    "                              cv=5,\n",
    "                              return_train_score=True,\n",
    "                              verbose=1)\n",
    "    \n",
    "    # Fit\n",
    "    start_fit_time = time.time()\n",
    "    grid_search.fit(X_train_transform, y_train)\n",
    "    end_fit_time = time.time()\n",
    "\n",
    "    # Predict\n",
    "    start_predict_time = time.time()\n",
    "    y_pred = grid_search.predict(X_test_transform)\n",
    "    end_predict_time = time.time()\n",
    "\n",
    "    # Saving the best models\n",
    "    joblib.dump(grid_search.best_estimator_, f'Second_inning_models/{algo}.pkl')\n",
    "    model_size = os.path.getsize(f'Second_inning_models/{algo}.pkl')\n",
    "\n",
    "    # Evaluation metrics\n",
    "    train_score = grid_search.best_score_\n",
    "    test_score = grid_search.score(X_test_transform, y_test)\n",
    "    mse = mean_squared_error(y_test, y_pred)\n",
    "    r2 = r2_score(y_test, y_pred)\n",
    "    rmse = sqrt(mse)\n",
    "\n",
    "    # Print evaluation metrics\n",
    "    print('Train Score: ', train_score)\n",
    "    print('Test Score: ', test_score)\n",
    "    print('Mean Squared Error (MSE): ', mse)\n",
    "    print('R2 Score: ', r2)\n",
    "    print('Root Mean Squared Error (RMSE): ', rmse)\n",
    "    print(\"Fit Time: \", end_fit_time - start_fit_time)\n",
    "    print(\"Predict Time: \", end_predict_time - start_predict_time)\n",
    "    print(\"Model Size: \", model_size)\n",
    "\n",
    "    # Plot predictions vs actual values\n",
    "    plt.scatter(y_test, y_pred)\n",
    "    plt.xlabel('Actual')\n",
    "    plt.ylabel('Predicted')\n",
    "    plt.title(f'{algo} Predictions vs Actual')\n",
    "    plt.show()\n"
   ]
  },
  {
   "cell_type": "code",
   "execution_count": null,
   "id": "20be65b8",
   "metadata": {},
   "outputs": [],
   "source": []
  }
 ],
 "metadata": {
  "accelerator": "GPU",
  "colab": {
   "gpuType": "T4",
   "provenance": []
  },
  "kernelspec": {
   "display_name": "Python 3 (ipykernel)",
   "language": "python",
   "name": "python3"
  },
  "language_info": {
   "codemirror_mode": {
    "name": "ipython",
    "version": 3
   },
   "file_extension": ".py",
   "mimetype": "text/x-python",
   "name": "python",
   "nbconvert_exporter": "python",
   "pygments_lexer": "ipython3",
   "version": "3.11.5"
  }
 },
 "nbformat": 4,
 "nbformat_minor": 5
}
